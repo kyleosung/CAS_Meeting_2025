{
 "cells": [
  {
   "cell_type": "markdown",
   "id": "98fb7128",
   "metadata": {},
   "source": [
    "# CAS Spring Meet 2025: Predictive Modeling Presentation\n",
    "### Template Notebook for Data Analysis\n",
    "\n",
    "### Authors: Kyle Sung, James Cheng, Saffron Magoon, Lucas Merla\n",
    "\n",
    "This file is a standalone template file to be used on presentation day to follow along with the workshop."
   ]
  },
  {
   "cell_type": "code",
   "execution_count": null,
   "id": "b8a17be1",
   "metadata": {},
   "outputs": [],
   "source": [
    "import pandas as pd\n",
    "\n",
    "# Load in the data\n",
    "df = pd.read_csv(\"Predictive Modeling Dataset.csv\")"
   ]
  },
  {
   "cell_type": "code",
   "execution_count": null,
   "id": "b5c008cb",
   "metadata": {},
   "outputs": [],
   "source": [
    "COLUMNS = [\n",
    "    \"student_id\",\n",
    "    \"name\",\n",
    "    \"class\",\n",
    "    \"study\",\n",
    "    \"gpa\",\n",
    "    \"greek\",\n",
    "    \"off_campus\",\n",
    "    \"distance_to_campus\",\n",
    "    \"gender\",\n",
    "    \"sprinklered\",\n",
    "    \"coverage\",\n",
    "    \"claim_id\",\n",
    "    \"amount\",\n",
    "    \"risk_tier\",\n",
    "    \"holdout\",\n",
    "]  # if needed, the COLUMNS variable contains the names of the columns"
   ]
  },
  {
   "cell_type": "markdown",
   "id": "5ea5333a",
   "metadata": {},
   "source": [
    "### Task 1: Select Coverage Type\n",
    "\n",
    "- Perform exploratory data analysis\n",
    "- What considerations should be made when selecting a coverage type?\n",
    "- Which coverage type should be chosen?"
   ]
  },
  {
   "cell_type": "code",
   "execution_count": null,
   "id": "5faade70",
   "metadata": {},
   "outputs": [],
   "source": [
    "df.head()"
   ]
  },
  {
   "cell_type": "code",
   "execution_count": null,
   "id": "76c90328",
   "metadata": {},
   "outputs": [],
   "source": [
    "df.describe()"
   ]
  },
  {
   "cell_type": "code",
   "execution_count": null,
   "id": "5584532f",
   "metadata": {},
   "outputs": [],
   "source": [
    "## Implement task 1 here"
   ]
  },
  {
   "cell_type": "markdown",
   "id": "f86824a0",
   "metadata": {},
   "source": [
    "### Task 2: Understand the risk tier variable\n",
    "\n",
    "- Are there any patterns in the data? Can any unsupervised learning techniques be applied?\n",
    "- Why are the underwriters making use of the risk tier variable, and how is it correlated with the claim amount?"
   ]
  },
  {
   "cell_type": "code",
   "execution_count": null,
   "id": "7e56ca07",
   "metadata": {},
   "outputs": [],
   "source": [
    "## Implement task 2 here"
   ]
  },
  {
   "cell_type": "markdown",
   "id": "7216ebfc",
   "metadata": {},
   "source": [
    "### Task 3: Create a predictive model\n",
    "\n",
    "- Can we create a predictive model which can predict the claim amount?\n",
    "- What objective should we optimize?\n",
    "- Which variables should be included?\n",
    "- Which characteristics should the model have?\n",
    "- What steps should we take to ensure the model is robust?"
   ]
  },
  {
   "cell_type": "code",
   "execution_count": null,
   "id": "8729778f",
   "metadata": {},
   "outputs": [],
   "source": [
    "## Implement task 3 here"
   ]
  },
  {
   "cell_type": "code",
   "execution_count": null,
   "id": "7636e427",
   "metadata": {},
   "outputs": [],
   "source": [
    "## Sample Code: Linear Regression\n",
    "## Try to build on this model and make something with more predictive power!\n",
    "\n",
    "from sklearn.linear_model import LinearRegression\n",
    "\n",
    "X = None  # add your features here\n",
    "y = None  # add your target variables here\n",
    "\n",
    "X_train, X_test, y_train, y_test = (\n",
    "    None  # Perform your train/test split here using the holdout column\n",
    ")\n",
    "\n",
    "model = LinearRegression()  # upgrade your model here\n",
    "model.fit(X_train, y_train)\n",
    "\n",
    "y_pred = model.predict(X_test)"
   ]
  }
 ],
 "metadata": {
  "kernelspec": {
   "display_name": ".venv",
   "language": "python",
   "name": "python3"
  },
  "language_info": {
   "codemirror_mode": {
    "name": "ipython",
    "version": 3
   },
   "file_extension": ".py",
   "mimetype": "text/x-python",
   "name": "python",
   "nbconvert_exporter": "python",
   "pygments_lexer": "ipython3",
   "version": "3.11.5"
  }
 },
 "nbformat": 4,
 "nbformat_minor": 5
}
