{
 "cells": [
  {
   "cell_type": "markdown",
   "id": "eeefcfff",
   "metadata": {},
   "source": [
    "# Supervised Learning: ADABoost Regression\n",
    "\n",
    "## Authors: Kyle Sung, James Cheng, Saffron Magoon, Lucas Merla"
   ]
  },
  {
   "cell_type": "code",
   "execution_count": 1,
   "id": "e7ef8b84",
   "metadata": {},
   "outputs": [
    {
     "name": "stdout",
     "output_type": "stream",
     "text": [
      "Data loaded successfully.\n"
     ]
    },
    {
     "data": {
      "text/html": [
       "<div>\n",
       "<style scoped>\n",
       "    .dataframe tbody tr th:only-of-type {\n",
       "        vertical-align: middle;\n",
       "    }\n",
       "\n",
       "    .dataframe tbody tr th {\n",
       "        vertical-align: top;\n",
       "    }\n",
       "\n",
       "    .dataframe thead th {\n",
       "        text-align: right;\n",
       "    }\n",
       "</style>\n",
       "<table border=\"1\" class=\"dataframe\">\n",
       "  <thead>\n",
       "    <tr style=\"text-align: right;\">\n",
       "      <th></th>\n",
       "      <th>student_id</th>\n",
       "      <th>name</th>\n",
       "      <th>class</th>\n",
       "      <th>gpa</th>\n",
       "      <th>is_greek</th>\n",
       "      <th>is_on_campus</th>\n",
       "      <th>distance_to_campus</th>\n",
       "      <th>is_female</th>\n",
       "      <th>is_sprinklered</th>\n",
       "      <th>claim_id</th>\n",
       "      <th>amount</th>\n",
       "      <th>risk_tier</th>\n",
       "      <th>holdout</th>\n",
       "      <th>Business</th>\n",
       "      <th>Humanities</th>\n",
       "      <th>Other</th>\n",
       "      <th>Science</th>\n",
       "    </tr>\n",
       "  </thead>\n",
       "  <tbody>\n",
       "    <tr>\n",
       "      <th>0</th>\n",
       "      <td>1</td>\n",
       "      <td>Saiz, Leslie</td>\n",
       "      <td>3</td>\n",
       "      <td>1.203913</td>\n",
       "      <td>0</td>\n",
       "      <td>0</td>\n",
       "      <td>0.000000</td>\n",
       "      <td>0.0</td>\n",
       "      <td>1</td>\n",
       "      <td>0</td>\n",
       "      <td>0.0</td>\n",
       "      <td>2</td>\n",
       "      <td>0</td>\n",
       "      <td>0</td>\n",
       "      <td>1</td>\n",
       "      <td>0</td>\n",
       "      <td>0</td>\n",
       "    </tr>\n",
       "    <tr>\n",
       "      <th>1</th>\n",
       "      <td>2</td>\n",
       "      <td>Reddy, Dawna</td>\n",
       "      <td>3</td>\n",
       "      <td>0.609616</td>\n",
       "      <td>0</td>\n",
       "      <td>0</td>\n",
       "      <td>0.000000</td>\n",
       "      <td>1.0</td>\n",
       "      <td>1</td>\n",
       "      <td>0</td>\n",
       "      <td>0.0</td>\n",
       "      <td>2</td>\n",
       "      <td>0</td>\n",
       "      <td>0</td>\n",
       "      <td>0</td>\n",
       "      <td>0</td>\n",
       "      <td>1</td>\n",
       "    </tr>\n",
       "    <tr>\n",
       "      <th>2</th>\n",
       "      <td>3</td>\n",
       "      <td>Rivera, Johnna</td>\n",
       "      <td>3</td>\n",
       "      <td>3.073385</td>\n",
       "      <td>0</td>\n",
       "      <td>1</td>\n",
       "      <td>0.223942</td>\n",
       "      <td>1.0</td>\n",
       "      <td>0</td>\n",
       "      <td>0</td>\n",
       "      <td>0.0</td>\n",
       "      <td>2</td>\n",
       "      <td>0</td>\n",
       "      <td>1</td>\n",
       "      <td>0</td>\n",
       "      <td>0</td>\n",
       "      <td>0</td>\n",
       "    </tr>\n",
       "    <tr>\n",
       "      <th>3</th>\n",
       "      <td>4</td>\n",
       "      <td>al-Jamil, Umaira</td>\n",
       "      <td>4</td>\n",
       "      <td>3.224736</td>\n",
       "      <td>0</td>\n",
       "      <td>0</td>\n",
       "      <td>0.000000</td>\n",
       "      <td>0.0</td>\n",
       "      <td>0</td>\n",
       "      <td>0</td>\n",
       "      <td>0.0</td>\n",
       "      <td>3</td>\n",
       "      <td>0</td>\n",
       "      <td>1</td>\n",
       "      <td>0</td>\n",
       "      <td>0</td>\n",
       "      <td>0</td>\n",
       "    </tr>\n",
       "    <tr>\n",
       "      <th>4</th>\n",
       "      <td>5</td>\n",
       "      <td>el-Mohammed, Qutb</td>\n",
       "      <td>2</td>\n",
       "      <td>2.687851</td>\n",
       "      <td>0</td>\n",
       "      <td>0</td>\n",
       "      <td>0.000000</td>\n",
       "      <td>1.0</td>\n",
       "      <td>0</td>\n",
       "      <td>0</td>\n",
       "      <td>0.0</td>\n",
       "      <td>1</td>\n",
       "      <td>0</td>\n",
       "      <td>1</td>\n",
       "      <td>0</td>\n",
       "      <td>0</td>\n",
       "      <td>0</td>\n",
       "    </tr>\n",
       "  </tbody>\n",
       "</table>\n",
       "</div>"
      ],
      "text/plain": [
       "   student_id               name  class       gpa  is_greek  is_on_campus  \\\n",
       "0           1       Saiz, Leslie      3  1.203913         0             0   \n",
       "1           2       Reddy, Dawna      3  0.609616         0             0   \n",
       "2           3     Rivera, Johnna      3  3.073385         0             1   \n",
       "3           4   al-Jamil, Umaira      4  3.224736         0             0   \n",
       "4           5  el-Mohammed, Qutb      2  2.687851         0             0   \n",
       "\n",
       "   distance_to_campus  is_female  is_sprinklered  claim_id  amount  risk_tier  \\\n",
       "0            0.000000        0.0               1         0     0.0          2   \n",
       "1            0.000000        1.0               1         0     0.0          2   \n",
       "2            0.223942        1.0               0         0     0.0          2   \n",
       "3            0.000000        0.0               0         0     0.0          3   \n",
       "4            0.000000        1.0               0         0     0.0          1   \n",
       "\n",
       "   holdout  Business  Humanities  Other  Science  \n",
       "0        0         0           1      0        0  \n",
       "1        0         0           0      0        1  \n",
       "2        0         1           0      0        0  \n",
       "3        0         1           0      0        0  \n",
       "4        0         1           0      0        0  "
      ]
     },
     "execution_count": 1,
     "metadata": {},
     "output_type": "execute_result"
    }
   ],
   "source": [
    "from src.utils import load_dataframe\n",
    "from src.constants import DATA_DIR\n",
    "\n",
    "df = load_dataframe(DATA_DIR / \"data_cleaned_PersonalProperty_encoded.csv\")\n",
    "df.head()"
   ]
  },
  {
   "cell_type": "code",
   "execution_count": 2,
   "id": "0b090232",
   "metadata": {},
   "outputs": [
    {
     "name": "stdout",
     "output_type": "stream",
     "text": [
      "Train set shape: (8070, 12)\n",
      "Test set shape: (1981, 12)\n"
     ]
    }
   ],
   "source": [
    "# Separate the data into train and test sets based on the 'holdout' column\n",
    "train_df = df[df[\"holdout\"] == 0]\n",
    "test_df = df[df[\"holdout\"] == 1]\n",
    "\n",
    "# Drop the 'holdout' column from the train and test sets\n",
    "train_df = train_df.drop(\n",
    "    columns=[\"holdout\", \"student_id\", \"name\", \"claim_id\", \"is_female\"]\n",
    ")\n",
    "test_df = test_df.drop(\n",
    "    columns=[\"holdout\", \"student_id\", \"name\", \"claim_id\", \"is_female\"]\n",
    ")\n",
    "\n",
    "print(\"Train set shape:\", train_df.shape)\n",
    "print(\"Test set shape:\", test_df.shape)"
   ]
  },
  {
   "cell_type": "markdown",
   "id": "5b3b5819",
   "metadata": {},
   "source": [
    "We will set up models to predict both the risk tier (to understand the previous decisions of the underwriters) and the amount (to make pricing decisions)."
   ]
  },
  {
   "cell_type": "code",
   "execution_count": 3,
   "id": "4eecd950",
   "metadata": {},
   "outputs": [],
   "source": [
    "X_train = train_df.drop(columns=[\"risk_tier\", \"amount\"]).to_numpy()\n",
    "y_train_risk_tier = train_df[[\"risk_tier\"]].to_numpy().reshape(-1, 1)\n",
    "y_train_amount = train_df[[\"amount\"]].to_numpy().reshape(-1, 1)\n",
    "\n",
    "X_test = test_df.drop(columns=[\"risk_tier\", \"amount\"]).to_numpy()\n",
    "y_test_risk_tier = test_df[[\"risk_tier\"]].to_numpy().reshape(-1, 1)\n",
    "y_test_amount = test_df[[\"amount\"]].to_numpy().reshape(-1, 1)"
   ]
  },
  {
   "cell_type": "code",
   "execution_count": 4,
   "id": "ca3e47db",
   "metadata": {},
   "outputs": [],
   "source": [
    "from sklearn.preprocessing import StandardScaler\n",
    "\n",
    "scaler = StandardScaler()\n",
    "X_train = scaler.fit_transform(X_train)\n",
    "X_test = scaler.transform(X_test)"
   ]
  },
  {
   "cell_type": "code",
   "execution_count": 5,
   "id": "e965a3f6",
   "metadata": {},
   "outputs": [
    {
     "name": "stdout",
     "output_type": "stream",
     "text": [
      "Train Mean Squared Error (Amount): 397.590091993707\n",
      "Test Mean Squared Error (Amount): 352.68614881672545\n"
     ]
    }
   ],
   "source": [
    "from sklearn.neural_network import MLPRegressor\n",
    "from sklearn.metrics import mean_squared_error\n",
    "import numpy as np\n",
    "from src.constants import SEED\n",
    "\n",
    "model = MLPRegressor(\n",
    "    hidden_layer_sizes=(64, 16),\n",
    "    activation=\"relu\",\n",
    "    solver=\"adam\",\n",
    "    max_iter=1500,\n",
    "    random_state=SEED,\n",
    "    early_stopping=True,\n",
    "    n_iter_no_change=15,\n",
    ")\n",
    "model.fit(X_train, y_train_amount.ravel())\n",
    "y_pred_amount = model.predict(X_test)\n",
    "\n",
    "train_rmse_amount = np.sqrt(mean_squared_error(y_train_amount, model.predict(X_train)))\n",
    "test_rmse_amount = np.sqrt(mean_squared_error(y_test_amount, y_pred_amount))\n",
    "\n",
    "print(f\"Train Mean Squared Error (Amount): {train_rmse_amount}\")\n",
    "print(f\"Test Mean Squared Error (Amount): {test_rmse_amount}\")"
   ]
  },
  {
   "cell_type": "code",
   "execution_count": 6,
   "id": "ba400ccf",
   "metadata": {},
   "outputs": [
    {
     "name": "stdout",
     "output_type": "stream",
     "text": [
      "Model saved.\n"
     ]
    }
   ],
   "source": [
    "from src.model_utils import pickle_sk_model\n",
    "from src.constants import MODEL_DIR\n",
    "\n",
    "pickle_sk_model(model, MODEL_DIR / \"nn_amount_model.pkl\")"
   ]
  },
  {
   "cell_type": "code",
   "execution_count": 7,
   "id": "1a8ddd3c",
   "metadata": {},
   "outputs": [
    {
     "name": "stdout",
     "output_type": "stream",
     "text": [
      "Train Mean Squared Error (Risk Tier): 0.018722051108108453\n",
      "Test Mean Squared Error (Risk Tier): 0.02171013624883981\n"
     ]
    }
   ],
   "source": [
    "model_risk_tier = MLPRegressor(\n",
    "    hidden_layer_sizes=(64, 16),\n",
    "    activation=\"relu\",\n",
    "    solver=\"adam\",\n",
    "    max_iter=1500,\n",
    "    random_state=SEED,\n",
    "    early_stopping=True,\n",
    "    n_iter_no_change=15,\n",
    ")\n",
    "model_risk_tier.fit(X_train, y_train_risk_tier.ravel())\n",
    "y_pred_risk_tier = model_risk_tier.predict(X_test)\n",
    "\n",
    "train_rmse_risk_tier = np.sqrt(\n",
    "    mean_squared_error(y_train_risk_tier, model_risk_tier.predict(X_train))\n",
    ")\n",
    "test_rmse_risk_tier = np.sqrt(mean_squared_error(y_test_risk_tier, y_pred_risk_tier))\n",
    "\n",
    "print(f\"Train Mean Squared Error (Risk Tier): {train_rmse_risk_tier}\")\n",
    "print(f\"Test Mean Squared Error (Risk Tier): {test_rmse_risk_tier}\")"
   ]
  },
  {
   "cell_type": "code",
   "execution_count": 8,
   "id": "a8b5675c",
   "metadata": {},
   "outputs": [
    {
     "data": {
      "image/png": "[encoded data removed]",
      "text/plain": [
       "<Figure size 640x480 with 1 Axes>"
      ]
     },
     "metadata": {},
     "output_type": "display_data"
    }
   ],
   "source": [
    "import matplotlib.pyplot as plt\n",
    "from src.constants import IMG_DIR\n",
    "\n",
    "plt.plot(y_test_amount, y_pred_amount, \"o\", label=\"Predicted vs Actual Amount\")\n",
    "plt.plot(y_test_amount, y_test_amount, \"r-\", label=\"Perfect Prediction\")\n",
    "plt.xlabel(\"Actual Amount\")\n",
    "plt.ylabel(\"Predicted Amount\")\n",
    "plt.title(\"Adaboost (Amount): Predicted vs Actual\")\n",
    "plt.legend()\n",
    "plt.savefig(IMG_DIR / \"NN_amount_predicted_vs_actual.png\", bbox_inches=\"tight\")\n",
    "plt.show()"
   ]
  }
 ],
 "metadata": {
  "kernelspec": {
   "display_name": ".venv",
   "language": "python",
   "name": "python3"
  },
  "language_info": {
   "codemirror_mode": {
    "name": "ipython",
    "version": 3
   },
   "file_extension": ".py",
   "mimetype": "text/x-python",
   "name": "python",
   "nbconvert_exporter": "python",
   "pygments_lexer": "ipython3",
   "version": "3.11.5"
  }
 },
 "nbformat": 4,
 "nbformat_minor": 5
}
