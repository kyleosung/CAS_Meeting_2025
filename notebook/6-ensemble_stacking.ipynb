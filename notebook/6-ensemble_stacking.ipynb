{
 "cells": [
  {
   "cell_type": "code",
   "execution_count": 1,
   "id": "8f724b8f",
   "metadata": {},
   "outputs": [],
   "source": [
    "from src.model_utils import unpickle_sk_model\n",
    "from src.constants import MODEL_DIR\n",
    "\n",
    "ada_model = unpickle_sk_model(MODEL_DIR / \"ada_amount_model.pkl\")\n",
    "rf_model = unpickle_sk_model(MODEL_DIR / \"rf_amount_model.pkl\")\n",
    "gb_model = unpickle_sk_model(MODEL_DIR / \"gb_amount_model.pkl\")\n",
    "pglm_model = unpickle_sk_model(MODEL_DIR / \"pglm_amount_model.pkl\")\n",
    "nn_model = unpickle_sk_model(MODEL_DIR / \"nn_amount_model.pkl\")"
   ]
  },
  {
   "cell_type": "code",
   "execution_count": 2,
   "id": "1f4aff45",
   "metadata": {},
   "outputs": [
    {
     "name": "stdout",
     "output_type": "stream",
     "text": [
      "Data loaded successfully.\n"
     ]
    },
    {
     "data": {
      "text/html": [
       "<div>\n",
       "<style scoped>\n",
       "    .dataframe tbody tr th:only-of-type {\n",
       "        vertical-align: middle;\n",
       "    }\n",
       "\n",
       "    .dataframe tbody tr th {\n",
       "        vertical-align: top;\n",
       "    }\n",
       "\n",
       "    .dataframe thead th {\n",
       "        text-align: right;\n",
       "    }\n",
       "</style>\n",
       "<table border=\"1\" class=\"dataframe\">\n",
       "  <thead>\n",
       "    <tr style=\"text-align: right;\">\n",
       "      <th></th>\n",
       "      <th>student_id</th>\n",
       "      <th>name</th>\n",
       "      <th>class</th>\n",
       "      <th>gpa</th>\n",
       "      <th>is_greek</th>\n",
       "      <th>is_on_campus</th>\n",
       "      <th>distance_to_campus</th>\n",
       "      <th>is_female</th>\n",
       "      <th>is_sprinklered</th>\n",
       "      <th>claim_id</th>\n",
       "      <th>amount</th>\n",
       "      <th>risk_tier</th>\n",
       "      <th>holdout</th>\n",
       "      <th>Business</th>\n",
       "      <th>Humanities</th>\n",
       "      <th>Other</th>\n",
       "      <th>Science</th>\n",
       "    </tr>\n",
       "  </thead>\n",
       "  <tbody>\n",
       "    <tr>\n",
       "      <th>0</th>\n",
       "      <td>1</td>\n",
       "      <td>Saiz, Leslie</td>\n",
       "      <td>3</td>\n",
       "      <td>1.203913</td>\n",
       "      <td>0</td>\n",
       "      <td>0</td>\n",
       "      <td>0.000000</td>\n",
       "      <td>0.0</td>\n",
       "      <td>1</td>\n",
       "      <td>0</td>\n",
       "      <td>0.0</td>\n",
       "      <td>2</td>\n",
       "      <td>0</td>\n",
       "      <td>0</td>\n",
       "      <td>1</td>\n",
       "      <td>0</td>\n",
       "      <td>0</td>\n",
       "    </tr>\n",
       "    <tr>\n",
       "      <th>1</th>\n",
       "      <td>2</td>\n",
       "      <td>Reddy, Dawna</td>\n",
       "      <td>3</td>\n",
       "      <td>0.609616</td>\n",
       "      <td>0</td>\n",
       "      <td>0</td>\n",
       "      <td>0.000000</td>\n",
       "      <td>1.0</td>\n",
       "      <td>1</td>\n",
       "      <td>0</td>\n",
       "      <td>0.0</td>\n",
       "      <td>2</td>\n",
       "      <td>0</td>\n",
       "      <td>0</td>\n",
       "      <td>0</td>\n",
       "      <td>0</td>\n",
       "      <td>1</td>\n",
       "    </tr>\n",
       "    <tr>\n",
       "      <th>2</th>\n",
       "      <td>3</td>\n",
       "      <td>Rivera, Johnna</td>\n",
       "      <td>3</td>\n",
       "      <td>3.073385</td>\n",
       "      <td>0</td>\n",
       "      <td>1</td>\n",
       "      <td>0.223942</td>\n",
       "      <td>1.0</td>\n",
       "      <td>0</td>\n",
       "      <td>0</td>\n",
       "      <td>0.0</td>\n",
       "      <td>2</td>\n",
       "      <td>0</td>\n",
       "      <td>1</td>\n",
       "      <td>0</td>\n",
       "      <td>0</td>\n",
       "      <td>0</td>\n",
       "    </tr>\n",
       "    <tr>\n",
       "      <th>3</th>\n",
       "      <td>4</td>\n",
       "      <td>al-Jamil, Umaira</td>\n",
       "      <td>4</td>\n",
       "      <td>3.224736</td>\n",
       "      <td>0</td>\n",
       "      <td>0</td>\n",
       "      <td>0.000000</td>\n",
       "      <td>0.0</td>\n",
       "      <td>0</td>\n",
       "      <td>0</td>\n",
       "      <td>0.0</td>\n",
       "      <td>3</td>\n",
       "      <td>0</td>\n",
       "      <td>1</td>\n",
       "      <td>0</td>\n",
       "      <td>0</td>\n",
       "      <td>0</td>\n",
       "    </tr>\n",
       "    <tr>\n",
       "      <th>4</th>\n",
       "      <td>5</td>\n",
       "      <td>el-Mohammed, Qutb</td>\n",
       "      <td>2</td>\n",
       "      <td>2.687851</td>\n",
       "      <td>0</td>\n",
       "      <td>0</td>\n",
       "      <td>0.000000</td>\n",
       "      <td>1.0</td>\n",
       "      <td>0</td>\n",
       "      <td>0</td>\n",
       "      <td>0.0</td>\n",
       "      <td>1</td>\n",
       "      <td>0</td>\n",
       "      <td>1</td>\n",
       "      <td>0</td>\n",
       "      <td>0</td>\n",
       "      <td>0</td>\n",
       "    </tr>\n",
       "  </tbody>\n",
       "</table>\n",
       "</div>"
      ],
      "text/plain": [
       "   student_id               name  class       gpa  is_greek  is_on_campus  \\\n",
       "0           1       Saiz, Leslie      3  1.203913         0             0   \n",
       "1           2       Reddy, Dawna      3  0.609616         0             0   \n",
       "2           3     Rivera, Johnna      3  3.073385         0             1   \n",
       "3           4   al-Jamil, Umaira      4  3.224736         0             0   \n",
       "4           5  el-Mohammed, Qutb      2  2.687851         0             0   \n",
       "\n",
       "   distance_to_campus  is_female  is_sprinklered  claim_id  amount  risk_tier  \\\n",
       "0            0.000000        0.0               1         0     0.0          2   \n",
       "1            0.000000        1.0               1         0     0.0          2   \n",
       "2            0.223942        1.0               0         0     0.0          2   \n",
       "3            0.000000        0.0               0         0     0.0          3   \n",
       "4            0.000000        1.0               0         0     0.0          1   \n",
       "\n",
       "   holdout  Business  Humanities  Other  Science  \n",
       "0        0         0           1      0        0  \n",
       "1        0         0           0      0        1  \n",
       "2        0         1           0      0        0  \n",
       "3        0         1           0      0        0  \n",
       "4        0         1           0      0        0  "
      ]
     },
     "execution_count": 2,
     "metadata": {},
     "output_type": "execute_result"
    }
   ],
   "source": [
    "from src.utils import load_dataframe\n",
    "from src.constants import DATA_DIR\n",
    "\n",
    "df = load_dataframe(DATA_DIR / \"data_cleaned_PersonalProperty_encoded.csv\")\n",
    "df.head()"
   ]
  },
  {
   "cell_type": "code",
   "execution_count": 3,
   "id": "29037aab",
   "metadata": {},
   "outputs": [
    {
     "name": "stdout",
     "output_type": "stream",
     "text": [
      "Train set shape: (8070, 12)\n",
      "Test set shape: (1981, 12)\n"
     ]
    }
   ],
   "source": [
    "# Separate the data into train and test sets based on the 'holdout' column\n",
    "train_df = df[df[\"holdout\"] == 0]\n",
    "test_df = df[df[\"holdout\"] == 1]\n",
    "\n",
    "# Drop the 'holdout' column from the train and test sets\n",
    "train_df = train_df.drop(\n",
    "    columns=[\"holdout\", \"student_id\", \"name\", \"claim_id\", \"is_female\"]\n",
    ")\n",
    "test_df = test_df.drop(\n",
    "    columns=[\"holdout\", \"student_id\", \"name\", \"claim_id\", \"is_female\"]\n",
    ")\n",
    "\n",
    "print(\"Train set shape:\", train_df.shape)\n",
    "print(\"Test set shape:\", test_df.shape)"
   ]
  },
  {
   "cell_type": "code",
   "execution_count": 4,
   "id": "460f9548",
   "metadata": {},
   "outputs": [],
   "source": [
    "X_train = train_df.drop(columns=[\"risk_tier\", \"amount\"]).to_numpy()\n",
    "y_train_risk_tier = train_df[[\"risk_tier\"]].to_numpy().reshape(-1, 1)\n",
    "y_train_amount = train_df[[\"amount\"]].to_numpy().reshape(-1, 1)\n",
    "\n",
    "X_test = test_df.drop(columns=[\"risk_tier\", \"amount\"]).to_numpy()\n",
    "y_test_risk_tier = test_df[[\"risk_tier\"]].to_numpy().reshape(-1, 1)\n",
    "y_test_amount = test_df[[\"amount\"]].to_numpy().reshape(-1, 1)"
   ]
  },
  {
   "cell_type": "code",
   "execution_count": 5,
   "id": "6920bb9d",
   "metadata": {},
   "outputs": [],
   "source": [
    "from sklearn.ensemble import StackingRegressor\n",
    "\n",
    "model_ensemble = StackingRegressor(\n",
    "    estimators=[\n",
    "        (\"ada\", ada_model),\n",
    "        (\"rf\", rf_model),\n",
    "        (\"gb\", gb_model),\n",
    "        (\"pglm\", pglm_model),\n",
    "        (\"nn\", nn_model),\n",
    "    ],\n",
    ")\n",
    "\n",
    "model_ensemble.fit(X_train, y_train_amount.ravel())\n",
    "\n",
    "y_pred = model_ensemble.predict(X_test).reshape(-1, 1)"
   ]
  },
  {
   "cell_type": "code",
   "execution_count": 6,
   "id": "109b8e08",
   "metadata": {},
   "outputs": [
    {
     "name": "stdout",
     "output_type": "stream",
     "text": [
      "Train Mean Squared Error (Amount): 403.37384602333464\n",
      "Test Mean Squared Error (Amount): 352.91435123796816\n"
     ]
    }
   ],
   "source": [
    "from sklearn.metrics import mean_squared_error\n",
    "import numpy as np\n",
    "\n",
    "train_rmse_amount = np.sqrt(\n",
    "    mean_squared_error(y_train_amount, model_ensemble.predict(X_train))\n",
    ")\n",
    "test_rmse_amount = np.sqrt(mean_squared_error(y_test_amount, y_pred))\n",
    "\n",
    "print(f\"Train Mean Squared Error (Amount): {train_rmse_amount}\")\n",
    "print(f\"Test Mean Squared Error (Amount): {test_rmse_amount}\")"
   ]
  },
  {
   "cell_type": "code",
   "execution_count": 16,
   "id": "b6a5199f",
   "metadata": {},
   "outputs": [
    {
     "data": {
      "text/plain": [
       "{'ada': AdaBoostRegressor(n_estimators=100, random_state=42),\n",
       " 'rf': RandomForestRegressor(random_state=42),\n",
       " 'gb': GradientBoostingRegressor(random_state=42),\n",
       " 'pglm': PoissonRegressor(),\n",
       " 'nn': MLPRegressor(early_stopping=True, hidden_layer_sizes=(64, 16), max_iter=1500,\n",
       "              n_iter_no_change=15, random_state=42)}"
      ]
     },
     "execution_count": 16,
     "metadata": {},
     "output_type": "execute_result"
    }
   ],
   "source": [
    "model_ensemble.named_estimators_"
   ]
  },
  {
   "cell_type": "code",
   "execution_count": 23,
   "id": "638f1e7f",
   "metadata": {},
   "outputs": [
    {
     "data": {
      "image/png": "[encoded data removed]",
      "text/plain": [
       "<Figure size 1000x600 with 1 Axes>"
      ]
     },
     "metadata": {},
     "output_type": "display_data"
    }
   ],
   "source": [
    "import matplotlib.pyplot as plt\n",
    "from src.constants import IMG_DIR\n",
    "\n",
    "# Extract coefficients from the final estimator\n",
    "coefficients = model_ensemble.final_estimator_.coef_\n",
    "model_labels = [name for (name, _) in model_ensemble.named_estimators_.items()]\n",
    "\n",
    "plt.figure(figsize=(10, 6))\n",
    "plt.bar(range(len(coefficients)), coefficients)\n",
    "plt.xlabel(\"Feature Index\")\n",
    "plt.xticks(range(len(coefficients)), model_labels, rotation=45)\n",
    "plt.ylabel(\"Coefficient Value\")\n",
    "plt.title(\"StackingRegressor: Coefficients of the Final Estimator\")\n",
    "plt.savefig(IMG_DIR / \"ensemble\" / \"stacking_reg_coef.png\")\n",
    "plt.show()"
   ]
  }
 ],
 "metadata": {
  "kernelspec": {
   "display_name": ".venv",
   "language": "python",
   "name": "python3"
  },
  "language_info": {
   "codemirror_mode": {
    "name": "ipython",
    "version": 3
   },
   "file_extension": ".py",
   "mimetype": "text/x-python",
   "name": "python",
   "nbconvert_exporter": "python",
   "pygments_lexer": "ipython3",
   "version": "3.11.5"
  }
 },
 "nbformat": 4,
 "nbformat_minor": 5
}
